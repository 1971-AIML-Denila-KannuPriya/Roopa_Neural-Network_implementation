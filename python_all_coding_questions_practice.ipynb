{
 "cells": [
  {
   "cell_type": "code",
   "execution_count": 1,
   "id": "d30edfaf-1d66-4df4-a967-8fd3a4896fa9",
   "metadata": {},
   "outputs": [
    {
     "name": "stdout",
     "output_type": "stream",
     "text": [
      "The second largest element is: 45\n"
     ]
    }
   ],
   "source": [
    "def find_second_largest(nums):\n",
    "    if len(nums) < 2:\n",
    "        return None  \n",
    "    \n",
    "    first = second = float('-inf') \n",
    "    \n",
    "    for num in nums:\n",
    "        if num > first:\n",
    "            second = first \n",
    "            first = num\n",
    "        elif num > second and num != first:\n",
    "            second = num \n",
    "    \n",
    "    return second if second != float('-inf') else None \n",
    "\n",
    "# Example usage\n",
    "nums = [10, 20, 4, 45, 99, 99]\n",
    "result = find_second_largest(nums)\n",
    "if result:\n",
    "    print(\"The second largest element is:\", result)\n",
    "else:\n",
    "    print(\"There is no second largest element.\")\n"
   ]
  },
  {
   "cell_type": "code",
   "execution_count": null,
   "id": "3680601e-68ca-4c79-b735-c3676c85b9f4",
   "metadata": {},
   "outputs": [],
   "source": [
    "def is_prime(number):\n",
    "    if number <= 1:\n",
    "        return False\n",
    "    for i in range(2, int(number**0.5) + 1):\n",
    "        if number % i == 0:\n",
    "            return False\n",
    "    return True\n",
    "\n",
    "# Example usage:\n",
    "num = int(input())\n",
    "if is_prime(num):\n",
    "    print(f\"{num} is a prime number.\")\n",
    "else:\n",
    "    print(f\"{num} is not a prime number.\")\n"
   ]
  },
  {
   "cell_type": "code",
   "execution_count": 11,
   "id": "d378dc97-8f36-4e69-8f2c-7157504671ce",
   "metadata": {},
   "outputs": [
    {
     "name": "stdout",
     "output_type": "stream",
     "text": [
      " \"Hello world\"\n"
     ]
    },
    {
     "name": "stdout",
     "output_type": "stream",
     "text": [
      "Original string: \"Hello world\"\n",
      "Reversed string: \"dlrow olleH\"\n"
     ]
    }
   ],
   "source": [
    "def reverse_string(s):\n",
    "    reversed_str = \"\"\n",
    "    for char in s:\n",
    "        reversed_str = char + reversed_str\n",
    "    return reversed_str\n",
    "\n",
    "\n",
    "input_string = str(input())\n",
    "reversed_string = reverse_string(input_string)\n",
    "print(f\"Original string: {input_string}\")\n",
    "print(f\"Reversed string: {reversed_string}\")\n"
   ]
  },
  {
   "cell_type": "code",
   "execution_count": 17,
   "id": "b38cc8f4-6b38-437f-880c-dc0e33816be9",
   "metadata": {},
   "outputs": [
    {
     "name": "stdout",
     "output_type": "stream",
     "text": [
      "Enter elements of first sorted array separated by spaces:  1 3 5 8 9\n",
      "Enter elements of second sorted array separated by spaces:  2 4 6 10 12\n"
     ]
    },
    {
     "name": "stdout",
     "output_type": "stream",
     "text": [
      "Merged sorted array: [1, 2, 3, 4, 5, 6, 8, 9, 10, 12]\n"
     ]
    }
   ],
   "source": [
    "def merge_sorted_arrays(arr1, arr2):\n",
    "    merged_array = []\n",
    "    i, j = 0, 0\n",
    "\n",
    "    # Traverse both arrays and merge\n",
    "    while i < len(arr1) and j < len(arr2):\n",
    "        if arr1[i] < arr2[j]:\n",
    "            merged_array.append(arr1[i])\n",
    "            i += 1\n",
    "        else:\n",
    "            merged_array.append(arr2[j])\n",
    "            j += 1\n",
    "\n",
    "    # If there are remaining elements in arr1\n",
    "    while i < len(arr1):\n",
    "        merged_array.append(arr1[i])\n",
    "        i += 1\n",
    "\n",
    "    # If there are remaining elements in arr2\n",
    "    while j < len(arr2):\n",
    "        merged_array.append(arr2[j])\n",
    "        j += 1\n",
    "\n",
    "    return merged_array\n",
    "\n",
    "# Taking input and converting to list of integers\n",
    "arr1 = list(map(int, input(\"Enter elements of first sorted array separated by spaces: \").split()))\n",
    "arr2 = list(map(int, input(\"Enter elements of second sorted array separated by spaces: \").split()))\n",
    "\n",
    "# Merging the arrays\n",
    "merged = merge_sorted_arrays(arr1, arr2)\n",
    "print(f\"Merged sorted array: {merged}\")\n"
   ]
  },
  {
   "cell_type": "code",
   "execution_count": 19,
   "id": "d3acc787-0f13-4b85-a7c1-12700173f2ff",
   "metadata": {},
   "outputs": [
    {
     "name": "stdout",
     "output_type": "stream",
     "text": [
      "Enter a number to calculate its factorial:  6\n"
     ]
    },
    {
     "name": "stdout",
     "output_type": "stream",
     "text": [
      "The factorial of 6 is 720\n"
     ]
    }
   ],
   "source": [
    "def factorial(n):\n",
    "   \n",
    "    if n == 0 or n == 1:\n",
    "        return 1\n",
    "    else:\n",
    "        \n",
    "        return n * factorial(n - 1)\n",
    "\n",
    "\n",
    "num = int(input(\"Enter a number to calculate its factorial: \"))\n",
    "result = factorial(num)\n",
    "print(f\"The factorial of {num} is {result}\")\n"
   ]
  },
  {
   "cell_type": "code",
   "execution_count": 21,
   "id": "90d3a08b-4abc-452e-86ec-e0dc0f6f7dd1",
   "metadata": {},
   "outputs": [
    {
     "name": "stdout",
     "output_type": "stream",
     "text": [
      "Enter the elements of the array separated by spaces:  -2 1 -3 4 -1 2 1 -5 4\n"
     ]
    },
    {
     "name": "stdout",
     "output_type": "stream",
     "text": [
      "The largest contiguous subarray sum is: 6\n"
     ]
    }
   ],
   "source": [
    "def max_subarray_sum(arr):\n",
    "    \n",
    "    max_current = arr[0]\n",
    "    max_global = arr[0]\n",
    "\n",
    "    \n",
    "    for i in range(1, len(arr)):\n",
    "     \n",
    "        max_current = max(arr[i], max_current + arr[i])\n",
    "\n",
    " \n",
    "        if max_current > max_global:\n",
    "            max_global = max_current\n",
    "\n",
    "    return max_global\n",
    "\n",
    "\n",
    "arr = list(map(int, input(\"Enter the elements of the array separated by spaces: \").split()))\n",
    "result = max_subarray_sum(arr)\n",
    "print(f\"The largest contiguous subarray sum is: {result}\")\n"
   ]
  },
  {
   "cell_type": "code",
   "execution_count": 23,
   "id": "b27a2de0-e3c3-4938-9df6-2154378ac730",
   "metadata": {},
   "outputs": [
    {
     "name": "stdout",
     "output_type": "stream",
     "text": [
      "Enter a string to check if it's a palindrome:  shankar\n"
     ]
    },
    {
     "name": "stdout",
     "output_type": "stream",
     "text": [
      "'shankar' is not a palindrome.\n"
     ]
    }
   ],
   "source": [
    "def is_palindrome(s):\n",
    "    \n",
    "    s = s.replace(\" \", \"\").lower()\n",
    "\n",
    "\n",
    "    return s == s[::-1]\n",
    "\n",
    "# Example usage:\n",
    "input_string = input(\"Enter a string to check if it's a palindrome: \")\n",
    "if is_palindrome(input_string):\n",
    "    print(f\"'{input_string}' is a palindrome.\")\n",
    "else:\n",
    "    print(f\"'{input_string}' is not a palindrome.\")\n"
   ]
  },
  {
   "cell_type": "code",
   "execution_count": 27,
   "id": "7eaaa149-404e-4cca-8233-17338e157493",
   "metadata": {},
   "outputs": [
    {
     "name": "stdout",
     "output_type": "stream",
     "text": [
      "Enter a decimal number to convert to binary:  13\n"
     ]
    },
    {
     "name": "stdout",
     "output_type": "stream",
     "text": [
      "The binary representation of 13 is: 1101\n"
     ]
    }
   ],
   "source": [
    "def decimal_to_binary(n):\n",
    "    if n == 0:\n",
    "        return \"0\"\n",
    "    \n",
    "    binary = \"\"\n",
    "    while n > 0:\n",
    "        remainder = n % 2  # Get the remainder\n",
    "        binary = str(remainder) + binary  # Prepend remainder to the binary string\n",
    "        n //= 2  # Divide the number by 2\n",
    "\n",
    "    return binary\n",
    "\n",
    "\n",
    "decimal_number = int(input(\"Enter a decimal number to convert to binary: \"))\n",
    "binary_representation = decimal_to_binary(decimal_number)\n",
    "print(f\"The binary representation of {decimal_number} is: {binary_representation}\")\n"
   ]
  },
  {
   "cell_type": "code",
   "execution_count": 29,
   "id": "b9372cc7-a437-4b26-921d-cc398cffc064",
   "metadata": {},
   "outputs": [
    {
     "name": "stdout",
     "output_type": "stream",
     "text": [
      "Enter the elements of the array separated by spaces:  1 2 3 4 5\n",
      "Enter the target sum:  6\n"
     ]
    },
    {
     "name": "stdout",
     "output_type": "stream",
     "text": [
      "Pairs with the sum of 6: [(2, 4), (1, 5)]\n"
     ]
    }
   ],
   "source": [
    "def find_pairs_with_sum(arr, target_sum):\n",
    "    pairs = []\n",
    "    seen = set()  # Use a set to keep track of numbers we've seen\n",
    "    \n",
    "    for number in arr:\n",
    "        complement = target_sum - number  # Calculate the complement\n",
    "        \n",
    "        if complement in seen:  # Check if the complement is already in the set\n",
    "            pairs.append((complement, number))  # Add the pair to the result list\n",
    "            \n",
    "        seen.add(number)  # Add the current number to the set\n",
    "\n",
    "    return pairs\n",
    "\n",
    "# Example usage:\n",
    "arr = list(map(int, input(\"Enter the elements of the array separated by spaces: \").split()))\n",
    "target_sum = int(input(\"Enter the target sum: \"))\n",
    "result = find_pairs_with_sum(arr, target_sum)\n",
    "\n",
    "if result:\n",
    "    print(f\"Pairs with the sum of {target_sum}: {result}\")\n",
    "else:\n",
    "    print(f\"No pairs found with the sum of {target_sum}.\")\n"
   ]
  },
  {
   "cell_type": "code",
   "execution_count": 31,
   "id": "e4615af8-2ca3-4882-9b15-c13d16d6785b",
   "metadata": {},
   "outputs": [
    {
     "name": "stdout",
     "output_type": "stream",
     "text": [
      "Enter the elements of the list separated by spaces:   1 2 2 3 3 3 4 5 5\n"
     ]
    },
    {
     "name": "stdout",
     "output_type": "stream",
     "text": [
      "Frequency of elements in the list:\n",
      "1: 1\n",
      "2: 2\n",
      "3: 3\n",
      "4: 1\n",
      "5: 2\n"
     ]
    }
   ],
   "source": [
    "def count_frequency(lst):\n",
    "    frequency = {}\n",
    "    \n",
    "    for item in lst:\n",
    "        if item in frequency:\n",
    "            frequency[item] += 1  # Increment count if item is already in the dictionary\n",
    "        else:\n",
    "            frequency[item] = 1  # Initialize count to 1 if it's the first occurrence\n",
    "\n",
    "    return frequency\n",
    "\n",
    "lst = list(map(int, input(\"Enter the elements of the list separated by spaces: \").split()))\n",
    "frequency_count = count_frequency(lst)\n",
    "\n",
    "print(\"Frequency of elements in the list:\")\n",
    "for item, count in frequency_count.items():\n",
    "    print(f\"{item}: {count}\")\n"
   ]
  },
  {
   "cell_type": "code",
   "execution_count": 33,
   "id": "227d61f2-12fc-464b-90d8-90739aca0970",
   "metadata": {},
   "outputs": [
    {
     "name": "stdout",
     "output_type": "stream",
     "text": [
      "Enter the number of terms in the Fibonacci sequence:  6\n"
     ]
    },
    {
     "name": "stdout",
     "output_type": "stream",
     "text": [
      "The Fibonacci sequence up to 6 terms is: [0, 1, 1, 2, 3, 5]\n"
     ]
    }
   ],
   "source": [
    "def fibonacci_sequence(n):\n",
    "    fib_sequence = []\n",
    "    a, b = 0, 1  \n",
    "\n",
    "    for _ in range(n):\n",
    "        fib_sequence.append(a) \n",
    "        a, b = b, a + b  \n",
    "\n",
    "    return fib_sequence\n",
    "\n",
    "num_terms = int(input(\"Enter the number of terms in the Fibonacci sequence: \"))\n",
    "sequence = fibonacci_sequence(num_terms)\n",
    "print(f\"The Fibonacci sequence up to {num_terms} terms is: {sequence}\")\n"
   ]
  },
  {
   "cell_type": "code",
   "execution_count": 1,
   "id": "0866b612-45fb-4387-a8ba-18f48dad6079",
   "metadata": {},
   "outputs": [
    {
     "name": "stdout",
     "output_type": "stream",
     "text": [
      "[1, 2, 3, 4, 5]\n"
     ]
    }
   ],
   "source": [
    "def remove_duplicates(lst):\n",
    "    seen = set()\n",
    "    result = []\n",
    "    for item in lst:\n",
    "        if item not in seen:\n",
    "            result.append(item)\n",
    "            seen.add(item)\n",
    "    return result\n",
    "\n",
    "# Example usage\n",
    "lst = [1, 2, 2, 3, 4, 3, 5]\n",
    "print(remove_duplicates(lst))  \n"
   ]
  },
  {
   "cell_type": "code",
   "execution_count": 3,
   "id": "cba3ffef-ff37-4435-8e06-64eb12b490b5",
   "metadata": {},
   "outputs": [
    {
     "name": "stdout",
     "output_type": "stream",
     "text": [
      "True\n",
      "False\n"
     ]
    }
   ],
   "source": [
    "def are_anagrams(str1, str2):\n",
    "    return sorted(str1) == sorted(str2)\n",
    "\n",
    "\n",
    "print(are_anagrams(\"listen\", \"silent\"))  \n",
    "print(are_anagrams(\"hello\", \"world\"))   \n"
   ]
  },
  {
   "cell_type": "code",
   "execution_count": 5,
   "id": "67df6296-6095-4a4d-9694-dae19c73e2ed",
   "metadata": {},
   "outputs": [
    {
     "name": "stdout",
     "output_type": "stream",
     "text": [
      "Vowels: 3, Consonants: 7\n"
     ]
    }
   ],
   "source": [
    "def count_vowels_consonants(s):\n",
    "    vowels = \"aeiouAEIOU\"\n",
    "    v_count, c_count = 0, 0\n",
    "    for char in s:\n",
    "        if char.isalpha():\n",
    "            if char in vowels:\n",
    "                v_count += 1\n",
    "            else:\n",
    "                c_count += 1\n",
    "    return v_count, c_count\n",
    "\n",
    "\n",
    "vowels, consonants = count_vowels_consonants(\"hello world\")\n",
    "print(f\"Vowels: {vowels}, Consonants: {consonants}\")  # Output: Vowels: 3, Consonants: 7\n"
   ]
  },
  {
   "cell_type": "code",
   "execution_count": 7,
   "id": "f9c519a6-a1ac-4359-85de-7d3a94e86c52",
   "metadata": {},
   "outputs": [
    {
     "name": "stdout",
     "output_type": "stream",
     "text": [
      "2\n"
     ]
    }
   ],
   "source": [
    "def binary_search(lst, target):\n",
    "    low, high = 0, len(lst) - 1\n",
    "    while low <= high:\n",
    "        mid = (low + high) // 2\n",
    "        if lst[mid] == target:\n",
    "            return mid\n",
    "        elif lst[mid] < target:\n",
    "            low = mid + 1\n",
    "        else:\n",
    "            high = mid - 1\n",
    "    return -1\n",
    "\n",
    "\n",
    "sorted_list = [1, 3, 5, 7, 9]\n",
    "print(binary_search(sorted_list, 5))  "
   ]
  },
  {
   "cell_type": "code",
   "execution_count": 9,
   "id": "14362a85-23a5-45e2-8f7a-c38fe86c0672",
   "metadata": {},
   "outputs": [
    {
     "name": "stdout",
     "output_type": "stream",
     "text": [
      "True\n",
      "False\n"
     ]
    }
   ],
   "source": [
    "def is_sorted(lst):\n",
    "    return lst == sorted(lst)\n",
    "\n",
    "print(is_sorted([1, 2, 3, 4])) \n",
    "print(is_sorted([4, 3, 2, 1]))  \n"
   ]
  },
  {
   "cell_type": "code",
   "execution_count": 11,
   "id": "e4c48638-e899-4fa0-bc23-b60487b387ed",
   "metadata": {},
   "outputs": [
    {
     "name": "stdout",
     "output_type": "stream",
     "text": [
      "[[1, 4, 7], [2, 5, 8], [3, 6, 9]]\n"
     ]
    }
   ],
   "source": [
    "def transpose_matrix(matrix):\n",
    "    return [list(row) for row in zip(*matrix)]\n",
    "\n",
    "\n",
    "matrix = [[1, 2, 3], [4, 5, 6], [7, 8, 9]]\n",
    "print(transpose_matrix(matrix))  \n",
    "\n"
   ]
  },
  {
   "cell_type": "code",
   "execution_count": 13,
   "id": "34756e0b-5ed3-47c0-a08a-bec24e966657",
   "metadata": {},
   "outputs": [
    {
     "name": "stdout",
     "output_type": "stream",
     "text": [
      "10\n"
     ]
    }
   ],
   "source": [
    "def sum_of_digits(n):\n",
    "    if n == 0:\n",
    "        return 0\n",
    "    return n % 10 + sum_of_digits(n // 10)\n",
    "\n",
    "\n",
    "print(sum_of_digits(1234))  \n"
   ]
  },
  {
   "cell_type": "code",
   "execution_count": 15,
   "id": "21637af0-1a36-4cf3-a4f9-8c3dcce15057",
   "metadata": {},
   "outputs": [
    {
     "name": "stdout",
     "output_type": "stream",
     "text": [
      "[3, 4]\n"
     ]
    }
   ],
   "source": [
    "def intersection_of_lists(lst1, lst2):\n",
    "    return list(set(lst1) & set(lst2))\n",
    "\n",
    "\n",
    "lst1 = [1, 2, 3, 4]\n",
    "lst2 = [3, 4, 5, 6]\n",
    "print(intersection_of_lists(lst1, lst2)) \n"
   ]
  },
  {
   "cell_type": "code",
   "execution_count": 17,
   "id": "b35946fd-72bc-4ed6-b848-0f5adec79387",
   "metadata": {},
   "outputs": [
    {
     "name": "stdout",
     "output_type": "stream",
     "text": [
      "['abc', 'acb', 'bac', 'bca', 'cab', 'cba']\n"
     ]
    }
   ],
   "source": [
    "from itertools import permutations\n",
    "\n",
    "def all_permutations(s):\n",
    "    return [''.join(p) for p in permutations(s)]\n",
    "\n",
    "\n",
    "print(all_permutations(\"abc\"))  \n",
    "\n"
   ]
  },
  {
   "cell_type": "code",
   "execution_count": null,
   "id": "c7c9deca-6ad8-41e7-902c-0d44b80a2535",
   "metadata": {},
   "outputs": [],
   "source": []
  }
 ],
 "metadata": {
  "kernelspec": {
   "display_name": "Python 3",
   "language": "python",
   "name": "python3"
  },
  "language_info": {
   "codemirror_mode": {
    "name": "ipython",
    "version": 3
   },
   "file_extension": ".py",
   "mimetype": "text/x-python",
   "name": "python",
   "nbconvert_exporter": "python",
   "pygments_lexer": "ipython3",
   "version": "3.12.4"
  }
 },
 "nbformat": 4,
 "nbformat_minor": 5
}
